{
 "cells": [
  {
   "cell_type": "markdown",
   "id": "5cc011e1-c802-45ba-ab3b-40999e8aa2a4",
   "metadata": {},
   "source": [
    "# Part 1: URL Lookup\n",
    "\n",
    "Write a small web service that responds to GET requests where the caller passes in a URL and the service responds with some information about that URL. The GET requests would look like this:\n",
    "\n",
    "GET /urlinfo/1/{hostname_and_port}/{original_path_and_query_string}\n",
    "\n",
    "The caller wants to know if it is safe to access that URL or not. As the implementer you get to choose the response format and structure. These lookups are blocking users from accessing the URL until the caller receives a response from your service."
   ]
  },
  {
   "cell_type": "markdown",
   "id": "18352092-ebcd-45e0-966e-ab3ac47db1a8",
   "metadata": {},
   "source": [
    "## 1. Install Google Safe Browsing API python wrapper\n",
    "### Please click here (https://pypi.org/project/pysafebrowsing/#description) for more information."
   ]
  },
  {
   "cell_type": "code",
   "execution_count": null,
   "id": "f77c63bf-f19b-4ca7-834c-86d500181bc9",
   "metadata": {},
   "outputs": [],
   "source": [
    "!pip install pysafebrowsing"
   ]
  },
  {
   "cell_type": "markdown",
   "id": "e14a22df-845a-4db4-910d-a1891a325675",
   "metadata": {},
   "source": [
    "## 2. Import pysafebrowsing module into the code"
   ]
  },
  {
   "cell_type": "code",
   "execution_count": null,
   "id": "b2ce10c3-6cc9-4e3b-922d-8c760eb30d08",
   "metadata": {},
   "outputs": [],
   "source": [
    "from pysafebrowsing import SafeBrowsing"
   ]
  },
  {
   "cell_type": "markdown",
   "id": "55f45e01-2ea4-4eea-82aa-9ec028f845df",
   "metadata": {},
   "source": [
    "## 3. Input urls, separated by comma"
   ]
  },
  {
   "cell_type": "code",
   "execution_count": null,
   "id": "cb0cb39e-aa77-4a82-a5f7-25b7496f0536",
   "metadata": {},
   "outputs": [],
   "source": [
    "input1 = input()"
   ]
  },
  {
   "cell_type": "markdown",
   "id": "ee6d1c12-46af-4aaf-be8b-35dac0548472",
   "metadata": {},
   "source": [
    "## 4. Output urls to double check our inputs"
   ]
  },
  {
   "cell_type": "code",
   "execution_count": null,
   "id": "c5c0d3c5-6799-4bf7-9e86-6a819f4e1c43",
   "metadata": {},
   "outputs": [],
   "source": [
    "urls = input1\n",
    "str(urls)"
   ]
  },
  {
   "cell_type": "markdown",
   "id": "4a5c4cc2-03e6-4bde-b74e-66cf5ad1bf61",
   "metadata": {},
   "source": [
    "## 5. Set up your API Key\n",
    "### Please follow instructions here (https://developers.google.com/safe-browsing/v4/get-started) to set up your API Key."
   ]
  },
  {
   "cell_type": "code",
   "execution_count": null,
   "id": "8d33ab89-3b0d-44e2-bbbc-436b3de0a508",
   "metadata": {},
   "outputs": [],
   "source": [
    "KEY = 'your-api-key'"
   ]
  },
  {
   "cell_type": "markdown",
   "id": "668dd268-0ab9-467f-87cd-fd0f2ab0fd1e",
   "metadata": {},
   "source": [
    "## 6. Call the lookup_urls function to check whether they are malware URLs"
   ]
  },
  {
   "cell_type": "code",
   "execution_count": null,
   "id": "6dfbb120-f5da-40cf-8b83-5709d648fd86",
   "metadata": {
    "tags": []
   },
   "outputs": [],
   "source": [
    "s = SafeBrowsing(KEY)\n",
    "r = s.lookup_urls([str(urls)])\n",
    "print(r)"
   ]
  },
  {
   "cell_type": "markdown",
   "id": "ad5f3fab-73f4-4c9e-bddc-5453fb0f6119",
   "metadata": {},
   "source": [
    "# Part 2: As a thought exercise, please describe how you would accomplish the following:"
   ]
  },
  {
   "cell_type": "markdown",
   "id": "00f5e75e-983c-4a6d-a998-3cd6f2d6ab1f",
   "metadata": {},
   "source": [
    "## • The size of the URL list could grow infinitely. How might you scale this beyond the memory capacity of the system?"
   ]
  },
  {
   "cell_type": "markdown",
   "id": "9ecfa0b7-40fc-4022-a056-68854a9e266a",
   "metadata": {},
   "source": [
    "Reply: \n",
    "1. Use amazon dynamodb which is self scalable database service.\n",
    "2. Add indexing."
   ]
  },
  {
   "cell_type": "markdown",
   "id": "65f3abfb-80a6-43db-bb25-2701dcdbaf3f",
   "metadata": {},
   "source": [
    "## • Assume that the number of requests will exceed the capacity of a single system, describe how might you solve this, and how might this change if you have to distribute this workload to an additional region, such as Europe. "
   ]
  },
  {
   "cell_type": "markdown",
   "id": "43314674-9ca9-4bc6-ac80-9cd7af8beb12",
   "metadata": {},
   "source": [
    "Reply: \n",
    "1. Use message queue to queue up requests.\n",
    "2. Do caching or master-slave replica for read heavy system.\n",
    "3. Sharding DB (horizontal and vertical) for write heavy system."
   ]
  },
  {
   "cell_type": "markdown",
   "id": "2114b3e2-f698-462a-acf0-3f67fed8fd65",
   "metadata": {},
   "source": [
    "## • What are some strategies you might use to update the service with new URLs? Updates may be as much as 5 thousand URLs a day with updates arriving every 10 minutes."
   ]
  },
  {
   "cell_type": "markdown",
   "id": "0a81eef8-7f04-41db-a3b2-ff12b0dfa9e5",
   "metadata": {},
   "source": [
    "Reply:\n",
    "1. If this URL has been verified before, return results directly.\n",
    "2. If not, analyze it.\n",
    "3. Queue up all requests."
   ]
  },
  {
   "cell_type": "markdown",
   "id": "717e8ea8-0630-4f08-91ba-984fff9a582e",
   "metadata": {},
   "source": [
    "## • You’re woken up at 3am, what are some of the things you’ll look for?"
   ]
  },
  {
   "cell_type": "markdown",
   "id": "8d62d7d7-88a4-4631-a678-02cda5cfa3c1",
   "metadata": {},
   "source": [
    "Reply:\n",
    "1. Check all pipelines and high priority tickets.\n",
    "2. Find right resources and allocate tickets to different resources.\n",
    "3. Fix tickets."
   ]
  },
  {
   "cell_type": "markdown",
   "id": "c0a54c4e-7abd-426d-bd08-dfee34c7df4f",
   "metadata": {},
   "source": [
    "## • Does that change anything you’ve done in the app?"
   ]
  },
  {
   "cell_type": "markdown",
   "id": "dc64cae1-a780-4ea3-83a3-7e2a6289bf4b",
   "metadata": {},
   "source": [
    "Reply:\n",
    "1. Yes, add a detection system to monitor requests.\n",
    "2. Set threshould for alarm."
   ]
  },
  {
   "cell_type": "markdown",
   "id": "d8b8398c-02e1-42c2-94e4-ef8452d58768",
   "metadata": {},
   "source": [
    "## • What are some considerations for the lifecycle of the app?"
   ]
  },
  {
   "cell_type": "markdown",
   "id": "f356ed0a-d8a9-4d7a-a19e-c4ed05e926ba",
   "metadata": {},
   "source": [
    "Reply:\n",
    "1. Well-defined requirement.\n",
    "2. Well-documented online-docs.\n",
    "3. Estimation based on development team's research.\n",
    "4. Development and integration.\n",
    "5. Fully tested.\n",
    "6. Deploy by phases.\n",
    "7. Maintain."
   ]
  },
  {
   "cell_type": "markdown",
   "id": "ca4bebe1-0a16-4dfe-a182-a70f31459ca7",
   "metadata": {},
   "source": [
    "## • You need to deploy a new version of this application. What would you do?"
   ]
  },
  {
   "cell_type": "markdown",
   "id": "ddf36566-8b44-448f-ac8e-4f8f7b31ccc5",
   "metadata": {},
   "source": [
    "Reply:\n",
    "1. Deploy with little changes once a time.\n",
    "2. Deploy to a small zone first, and then, after fixing all issues from this small zone, then deploy to another zone."
   ]
  }
 ],
 "metadata": {
  "kernelspec": {
   "display_name": "Python 3 (ipykernel)",
   "language": "python",
   "name": "python3"
  },
  "language_info": {
   "codemirror_mode": {
    "name": "ipython",
    "version": 3
   },
   "file_extension": ".py",
   "mimetype": "text/x-python",
   "name": "python",
   "nbconvert_exporter": "python",
   "pygments_lexer": "ipython3",
   "version": "3.9.7"
  }
 },
 "nbformat": 4,
 "nbformat_minor": 5
}
